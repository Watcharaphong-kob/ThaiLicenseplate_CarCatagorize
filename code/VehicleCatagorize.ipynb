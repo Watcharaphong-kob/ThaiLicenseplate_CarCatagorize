{
 "cells": [
  {
   "cell_type": "code",
   "execution_count": 119,
   "metadata": {},
   "outputs": [],
   "source": [
    "import pandas as pd\n",
    "import numpy as np"
   ]
  },
  {
   "cell_type": "code",
   "execution_count": 120,
   "metadata": {},
   "outputs": [],
   "source": [
    "input_file_path = r'C:\\Users\\Kobiz\\Documents\\Term_2\\Computer_Vision\\Project\\LicensePlates\\output.xlsx'\n",
    "output_summary_file_path = r'C:\\Users\\Kobiz\\Documents\\Term_2\\Computer_Vision\\Project\\LicensePlates\\summary_data.xlsx'\n",
    "data = pd.read_excel(input_file_path)"
   ]
  },
  {
   "cell_type": "code",
   "execution_count": 121,
   "metadata": {},
   "outputs": [],
   "source": [
    "acc_raw = data['Accuracy']\n",
    "text_raw = data['Text']\n",
    "pic_path_raw = data['File path']"
   ]
  },
  {
   "cell_type": "code",
   "execution_count": 122,
   "metadata": {},
   "outputs": [],
   "source": [
    "first = acc_raw > 0.5\n",
    "first_filtered = data[first]"
   ]
  },
  {
   "cell_type": "code",
   "execution_count": 123,
   "metadata": {},
   "outputs": [],
   "source": [
    "def thaiLanguage(text):\n",
    "    return any(ord(char) >= 3584 and ord(char) <= 3711 for char in text)\n",
    "\n",
    "thaiVowels = set(['ะ', 'า', 'ิ', 'ี', 'ื', 'ึ', 'เ', 'โ', '๊', 'ั', '้', '็', '๊', 'ํ', '๋', '์', 'ุ', 'ู', 'ใ', 'ๆ', 'ไ', 'ฯ', 'ำ'])\n",
    "def thaiVowel(text):\n",
    "    return any(vowel in text for vowel in thaiVowels)\n",
    "\n",
    "def symbols(text):\n",
    "    return any(not char.isalnum() for char in text)\n",
    "\n",
    "def num(text):\n",
    "    return any(char.isdigit() for char in text)\n",
    "thaiNum = set(['๑', '๒', '๓', '๔', '๕', '๖', '๗', '๘', '๙'])\n",
    "def thnum(text):\n",
    "    return any(numeral in text for numeral in thaiNum)"
   ]
  },
  {
   "cell_type": "code",
   "execution_count": 124,
   "metadata": {},
   "outputs": [],
   "source": [
    "def numbftex(text):\n",
    "    count = 0\n",
    "    for char in text:\n",
    "        if char.isdigit():\n",
    "            count += 1\n",
    "        elif ord(char) >= 3584 and ord(char) <= 3711:  # Check for Thai language characters\n",
    "            if(count <= 1):\n",
    "                return True\n",
    "            else:\n",
    "                return False  # Return True if not more than one number before Thai language"
   ]
  },
  {
   "cell_type": "code",
   "execution_count": 125,
   "metadata": {},
   "outputs": [],
   "source": [
    "def cNumAf(text):\n",
    "    count = 0\n",
    "    fTH = False\n",
    "\n",
    "    for char in reversed(text):\n",
    "        if ord(char) >= 3584 and ord(char) <= 3711:  # Check for Thai language characters\n",
    "            fTH = True\n",
    "            break\n",
    "        elif char.isdigit():\n",
    "            count += 1\n",
    "\n",
    "    return fTH and 1 <= count <= 4"
   ]
  },
  {
   "cell_type": "code",
   "execution_count": 126,
   "metadata": {},
   "outputs": [],
   "source": [
    "def thai2ch(text):\n",
    "    THcount = sum(1 for char in text if 3584 <= ord(char) <= 3711)  # Count Thai language characters\n",
    "    if THcount == 2:\n",
    "        return True\n",
    "    else:\n",
    "        return False"
   ]
  },
  {
   "cell_type": "code",
   "execution_count": 127,
   "metadata": {},
   "outputs": [],
   "source": [
    "def groupping(text):\n",
    "    numbers = \"\"\n",
    "    found_thai_language = False\n",
    "\n",
    "    for char in reversed(text):\n",
    "        if ord(char) >= 3584 and ord(char) <= 3711:  # Check for Thai language characters\n",
    "            found_thai_language = True\n",
    "            break\n",
    "        elif char.isdigit():\n",
    "            numbers = char + numbers\n",
    "\n",
    "    return numbers if found_thai_language else None\n"
   ]
  },
  {
   "cell_type": "code",
   "execution_count": 128,
   "metadata": {},
   "outputs": [],
   "source": [
    "def firstTH(text):\n",
    "    for char in text:\n",
    "        if 3584 <= ord(char) <= 3711:  # Check for Thai language characters\n",
    "            return char\n",
    "    return None"
   ]
  },
  {
   "cell_type": "code",
   "execution_count": 129,
   "metadata": {},
   "outputs": [],
   "source": [
    "def mcth(group):\n",
    "    counts = group['FirstThaiCharacter'].value_counts()\n",
    "    most_common_char = counts.idxmax()\n",
    "    group['First Thai Character'] = most_common_char\n",
    "    return group"
   ]
  },
  {
   "cell_type": "code",
   "execution_count": 130,
   "metadata": {},
   "outputs": [],
   "source": [
    "def cartype(char):\n",
    "    sedan_chars = ['ก', 'ข', 'จ', 'ฉ', 'ช', 'ฌ', 'ญ', 'ฎ', 'ฐ', 'ธ', 'พ', 'ภ', 'ว', 'ศ', 'ษ', 'ส']\n",
    "    microbus_chars = ['น', 'ฬ', 'อ', 'ฮ']\n",
    "    van_pickup_chars = ['ฒ', 'ณ', 'ต', 'ถ', 'บ', 'ผ', 'ย', 'ร', 'ล']\n",
    "    motortricycle_char = 'ศ'\n",
    "    interprovincial_taxi_char = 'ว'\n",
    "    urban_taxi_chars = ['ท', 'ม']\n",
    "    Car_For_Hire = 'ฎ'\n",
    "\n",
    "    if char in sedan_chars:\n",
    "        return 'Sedan'\n",
    "    elif char in microbus_chars:\n",
    "        return 'Microbus & Passenger Van'\n",
    "    elif char in van_pickup_chars:\n",
    "        return 'Van & Pick Up'\n",
    "    elif char == motortricycle_char:\n",
    "        return 'Motortricycle'\n",
    "    elif char == interprovincial_taxi_char:\n",
    "        return 'Interprovincial Taxi'\n",
    "    elif char in urban_taxi_chars:\n",
    "        return 'Urban Taxi'\n",
    "    elif char in Car_For_Hire:\n",
    "        return 'Car for hire'\n",
    "    else:\n",
    "        return 'Other'\n",
    "    "
   ]
  },
  {
   "cell_type": "code",
   "execution_count": 131,
   "metadata": {},
   "outputs": [],
   "source": [
    "def sort_group(group):\n",
    "    return group.sort_values(by='Accuracy', ascending=False)"
   ]
  },
  {
   "cell_type": "code",
   "execution_count": 132,
   "metadata": {},
   "outputs": [],
   "source": [
    "def MaxAcc(group):\n",
    "    return group.head(1)"
   ]
  },
  {
   "cell_type": "code",
   "execution_count": 133,
   "metadata": {},
   "outputs": [
    {
     "name": "stderr",
     "output_type": "stream",
     "text": [
      "C:\\Users\\Kobiz\\AppData\\Local\\Temp\\ipykernel_1304\\2000843020.py:26: SettingWithCopyWarning: \n",
      "A value is trying to be set on a copy of a slice from a DataFrame.\n",
      "Try using .loc[row_indexer,col_indexer] = value instead\n",
      "\n",
      "See the caveats in the documentation: https://pandas.pydata.org/pandas-docs/stable/user_guide/indexing.html#returning-a-view-versus-a-copy\n",
      "  nineth_filtered['Group'] = nineth_filtered['Text'].apply(groupping)\n",
      "C:\\Users\\Kobiz\\AppData\\Local\\Temp\\ipykernel_1304\\2000843020.py:27: SettingWithCopyWarning: \n",
      "A value is trying to be set on a copy of a slice from a DataFrame.\n",
      "Try using .loc[row_indexer,col_indexer] = value instead\n",
      "\n",
      "See the caveats in the documentation: https://pandas.pydata.org/pandas-docs/stable/user_guide/indexing.html#returning-a-view-versus-a-copy\n",
      "  nineth_filtered['FirstThaiCharacter'] = nineth_filtered['Text'].apply(firstTH)\n"
     ]
    }
   ],
   "source": [
    "from click import group\n",
    "\n",
    "second = first_filtered['Text'].apply(thaiLanguage)\n",
    "second_filtered = first_filtered[second]\n",
    "\n",
    "third = ~second_filtered['Text'].apply(thaiVowel)\n",
    "third_filtered = second_filtered[third]\n",
    "\n",
    "forth = ~third_filtered['Text'].apply(symbols)\n",
    "forth_filtered = third_filtered[forth]\n",
    "\n",
    "fifth = forth_filtered['Text'].apply(num)\n",
    "fifth_filtered = forth_filtered[fifth]\n",
    "\n",
    "sixth = ~fifth_filtered['Text'].apply(thnum)\n",
    "sixth_filtered = fifth_filtered[sixth]\n",
    "\n",
    "seventh = sixth_filtered['Text'].apply(numbftex)\n",
    "seventh_filtered = sixth_filtered[seventh]\n",
    "\n",
    "eight = seventh_filtered['Text'].apply(cNumAf)\n",
    "eight_filtered = seventh_filtered[eight]\n",
    "\n",
    "nineth = eight_filtered['Text'].apply(thai2ch)\n",
    "nineth_filtered = eight_filtered[nineth]\n",
    "nineth_filtered['Group'] = nineth_filtered['Text'].apply(groupping)\n",
    "nineth_filtered['FirstThaiCharacter'] = nineth_filtered['Text'].apply(firstTH)\n",
    "\n",
    "group_data = nineth_filtered.groupby('FirstThaiCharacter').apply(mcth)\n",
    "group_data['Car Type'] = group_data['First Thai Character'].apply(cartype)\n",
    "\n",
    "newFile_grouped = group_data.groupby(['Group', 'First Thai Character', 'Car Type']).first().reset_index()\n",
    "\n",
    "sorted_new = newFile_grouped.groupby('Group').apply(sort_group)\n",
    "\n",
    "maxAcc = newFile_grouped.groupby('Group').apply(MaxAcc)\n",
    "\n",
    "Reorder = ['File path', 'Text', 'Group', 'First Thai Character', 'Car Type', 'Accuracy']\n",
    "final = maxAcc[Reorder]\n",
    "\n"
   ]
  },
  {
   "cell_type": "code",
   "execution_count": 134,
   "metadata": {},
   "outputs": [
    {
     "name": "stdout",
     "output_type": "stream",
     "text": [
      "Summary data saved to C:\\Users\\Kobiz\\Documents\\Term_2\\Computer_Vision\\Project\\LicensePlates\\summary_data.xlsx\n"
     ]
    }
   ],
   "source": [
    "final.to_excel(output_summary_file_path, index=False)\n",
    "print(f\"Summary data saved to {output_summary_file_path}\")"
   ]
  },
  {
   "cell_type": "code",
   "execution_count": null,
   "metadata": {},
   "outputs": [],
   "source": []
  }
 ],
 "metadata": {
  "kernelspec": {
   "display_name": "base",
   "language": "python",
   "name": "python3"
  },
  "language_info": {
   "codemirror_mode": {
    "name": "ipython",
    "version": 3
   },
   "file_extension": ".py",
   "mimetype": "text/x-python",
   "name": "python",
   "nbconvert_exporter": "python",
   "pygments_lexer": "ipython3",
   "version": "3.11.7"
  }
 },
 "nbformat": 4,
 "nbformat_minor": 2
}
