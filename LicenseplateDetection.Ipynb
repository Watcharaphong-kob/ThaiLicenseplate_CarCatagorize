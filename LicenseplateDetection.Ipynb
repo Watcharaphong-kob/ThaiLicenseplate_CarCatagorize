{
 "cells": [
  {
   "cell_type": "code",
   "execution_count": 1,
   "metadata": {},
   "outputs": [],
   "source": [
    "# importing libraries \n",
    "import cv2 \n",
    "import numpy as np "
   ]
  },
  {
   "cell_type": "code",
   "execution_count": 2,
   "metadata": {},
   "outputs": [
    {
     "name": "stderr",
     "output_type": "stream",
     "text": [
      "<>:2: SyntaxWarning: invalid escape sequence '\\O'\n",
      "<>:2: SyntaxWarning: invalid escape sequence '\\O'\n",
      "C:\\Users\\Jakrin PC\\AppData\\Local\\Temp\\ipykernel_32352\\2540164318.py:2: SyntaxWarning: invalid escape sequence '\\O'\n",
      "  cap = cv2.VideoCapture('Clips\\Optical flow_1.mov')\n"
     ]
    }
   ],
   "source": [
    "# Create a VideoCapture object and read from input file \n",
    "cap = cv2.VideoCapture('Clips\\Optical flow_1.mov') "
   ]
  },
  {
   "cell_type": "code",
   "execution_count": 3,
   "metadata": {},
   "outputs": [],
   "source": [
    "# Check if camera opened successfully \n",
    "if (cap.isOpened()== False): \n",
    "    print(\"Error opening video file\")"
   ]
  },
  {
   "cell_type": "code",
   "execution_count": 4,
   "metadata": {},
   "outputs": [],
   "source": [
    "kernelSharpness = np.array([[0,-1,0],[-1,5,-1],[0,-1,0],]) #sharpening\n",
    "kernelcustom = np.array([[0,-2,0],[-2,8,-2],[0,-2,0],])    #Edge detection\n",
    "Wc = 700\n",
    "Hc = 1000       #Cropping resolution (700x1000)\n",
    "a = Wc/2\n",
    "b = Hc/2    \n",
    "xtl = 190\n",
    "ytl = 0         #the top-left of the cropping section\n",
    "x = xtl + a\n",
    "y = ytl + b     #Center of result video output\n",
    "d = 0           #Order of license plate"
   ]
  },
  {
   "cell_type": "code",
   "execution_count": 5,
   "metadata": {},
   "outputs": [],
   "source": [
    "# Read until video is completed \n",
    "while(cap.isOpened()): \n",
    "    \n",
    "# Capture frame-by-frame \n",
    "    ret, frame = cap.read() \n",
    "    \n",
    "    if ret == True:         \n",
    "        frameEdit = cv2.getRectSubPix(frame,(Wc,Hc),(x,y)) #Making Black-white cropped video (frameEdit)\n",
    "        frame = cv2.getRectSubPix(frame,(Wc,Hc),(x,y))     #Making Color cropped video (frame)\n",
    "        \n",
    "        frame = cv2.filter2D(frame,0,kernelSharpness)      #Add sharpness in \"frame\"\n",
    "        frameEdit = cv2.filter2D(frameEdit,0,kernelcustom) #Add edge detection in \"frameEdit\"\n",
    "\n",
    "        frameEdit = cv2.cvtColor(frameEdit,cv2.COLOR_RGB2GRAY)              #Change \"frameEdit\" to grayscale video\n",
    "        ret, frameEdit = cv2.threshold(frameEdit,5,255,cv2.THRESH_BINARY)   #Partition the license plate from the hull in \"frameEdit\"\n",
    "\n",
    "        contours, _= cv2.findContours(frameEdit, cv2.RETR_TREE, cv2.CHAIN_APPROX_NONE) \n",
    "\n",
    "        frameEdit = cv2.cvtColor(frameEdit,cv2.COLOR_GRAY2RGB) #Change \"frameEdit\" to RGB video\n",
    "\n",
    "        for i in range(len(contours)): #Run for every contour in current image\n",
    "            xb,yb,wb,hb = cv2.boundingRect(contours[i]) #determine the position and scale of each contour\n",
    "            aRatio =wb/hb #Ration of the width and height\n",
    "            area =wb*hb   #Area\n",
    "            if (5000<area<15000 and 2.3<aRatio<2.8): #Pick the contour that have features similar to license plates\n",
    "                originalPoints = [(xb,yb),(xb+wb,yb),(xb,yb+hb),(xb+wb,yb+hb)] #Determine perspective transfromation for cropping license plate\n",
    "                targetPoints = [(0,0),(135,0),(0,60),(135,60)]                 #Determine the license plate scale (≈ 13.5 in /5.9 in)\n",
    "\n",
    "                licensePlate = cv2.getPerspectiveTransform(np.float32(originalPoints),np.float32(targetPoints))\n",
    "                licensePlate = cv2.warpPerspective(frame,licensePlate,(135,60))\n",
    "                cv2.imshow('License plate', licensePlate)                                                           #Use perspective transfromation for cropping license plate\n",
    "                licensePlateBW = cv2.getPerspectiveTransform(np.float32(originalPoints),np.float32(targetPoints))\n",
    "                licensePlateBW = cv2.warpPerspective(frameEdit,licensePlateBW,(135,60))\n",
    "                cv2.imshow('License plate Black-White', licensePlateBW)                                             #Use perspective transfromation for cropping license plate\n",
    " \n",
    "                cv2.putText(frame, f'Area :{area}', (xb, yb-50), cv2.FONT_HERSHEY_SIMPLEX, 0.7, (255, 0, 0), 2)         #Show area of the contour\n",
    "                cv2.putText(frame, f'Ratio :{aRatio:.2f}', (xb, yb-20), cv2.FONT_HERSHEY_SIMPLEX, 0.7, (0, 0, 255), 2)  #Show ratio of the contour's width and height\n",
    "\n",
    "                cv2.drawContours(frameEdit, contours[i], -1, (0,0,255), 2)              #Draw the red line for the real contour on the greyscale video\n",
    "                cv2.rectangle(frame,(xb,yb),(xb+wb,yb+hb),(0,255,0),thickness =1)       #Draw the green rectangle on the RGB video\n",
    "                cv2.rectangle(frameEdit,(xb,yb),(xb+wb,yb+hb),(255,0,0),thickness =1)   #Draw the Blue rectangle on the greyscale video\n",
    "\n",
    "                cv2.imwrite('LicensePlates/img%d.png'%d, licensePlate)  #Save the license plate image on determined path\n",
    "                d+=1\n",
    "\n",
    "        cv2.imshow('Frame from source', frame)  \n",
    "        cv2.imshow('Frame from edit', frameEdit)   #Show every frame\n",
    "            \n",
    "    # Press Q on keyboard to exit \n",
    "        if cv2.waitKey(1) & 0xFF == ord('q'): \n",
    "            break\n",
    "  \n",
    "# Break the loop \n",
    "    else: \n",
    "        break\n",
    "  \n",
    "# When everything done, release the video capture object \n",
    "cap.release() \n",
    "  \n",
    "# Closes all the frames \n",
    "cv2.destroyAllWindows() "
   ]
  }
 ],
 "metadata": {
  "kernelspec": {
   "display_name": "Python 3",
   "language": "python",
   "name": "python3"
  },
  "language_info": {
   "codemirror_mode": {
    "name": "ipython",
    "version": 3
   },
   "file_extension": ".py",
   "mimetype": "text/x-python",
   "name": "python",
   "nbconvert_exporter": "python",
   "pygments_lexer": "ipython3",
   "version": "3.12.2"
  }
 },
 "nbformat": 4,
 "nbformat_minor": 2
}
